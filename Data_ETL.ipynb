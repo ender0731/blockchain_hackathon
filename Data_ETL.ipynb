{
 "cells": [
  {
   "cell_type": "code",
   "execution_count": 1,
   "metadata": {
    "colab": {
     "base_uri": "https://localhost:8080/"
    },
    "id": "BE--biadtB1g",
    "outputId": "4289c304-4ca2-4a79-bd69-72dae17a0faf"
   },
   "outputs": [
    {
     "name": "stdout",
     "output_type": "stream",
     "text": [
      "    tokenId priceETH   timestamp\n",
      "0      5185        4  2021-06-17\n",
      "1      6090        1  2021-05-31\n",
      "2      6733     2.68  2021-06-19\n",
      "3      7544    15.85  2021-08-20\n",
      "4      9168     0.35  2021-05-02\n",
      "..      ...      ...         ...\n",
      "995    9864     1.15  2021-05-31\n",
      "996    1128    49.47  2021-12-02\n",
      "997    5593     0.97  2021-05-03\n",
      "998    2733      8.5  2021-07-14\n",
      "999    3362     2.32  2021-06-16\n",
      "\n",
      "[2000 rows x 3 columns]\n"
     ]
    }
   ],
   "source": [
    "\n",
    "#Code to fetch the data from The Graph's endpoint for analysis. The transactions are filtered with Token ID = 0xc02aaa39b223fe8d0a0e5c4f27ead9083c756cc2\n",
    "#This is the token ID for Wrapped ETH (WETH) : https://etherscan.io/token/0xc02aaa39b223fe8d0a0e5c4f27ead9083c756cc2\n",
    "import requests\n",
    "import json\n",
    "import pandas as pd\n",
    "from datetime import datetime\n",
    "\n",
    "# Point to correct subgraph URL\n",
    "#Uniswap V3 GraphQL endpoint link - https://thegraph.com/hosted-service/subgraph/uniswap/uniswap-v3\n",
    "url = 'https://api.thegraph.com/subgraphs/name/messari/opensea-v1-ethereum'\n",
    "\n",
    "# initialize full_data\n",
    "df1_fulldata = pd.DataFrame()\n",
    "df2_fulldata = pd.DataFrame()\n",
    "df_data = pd.DataFrame()\n",
    "\n",
    "#Fetching top records ordered by date\n",
    "for i in range(0,2) :\n",
    "    # Set query (which uses text input to specify ETH wallet addresses)\n",
    "    query = '''query {\n",
    "        trades( first: 1000, skip: %s, where: {collection: \"0xbc4ca0eda7647a8ab7c2061c2e118a18a936f13d\"}) {\n",
    "            \n",
    "            tokenId\n",
    "            priceETH\n",
    "            timestamp\n",
    "            \n",
    "\n",
    "            }\n",
    "            }''' % (i*1000)\n",
    "\n",
    "\n",
    "    # Make the request\n",
    "    r = requests.post(url, json={'query': query})\n",
    "    \n",
    "    # JSON adjustment\n",
    "    json_data = json.loads(r.text)\n",
    "    \n",
    "    # extract JSON to convert to a dataframe\n",
    "    df_data = json_data['data']['trades']\n",
    "    df1_fulldata = pd.DataFrame(df_data)\n",
    "        \n",
    "    df2_fulldata = pd.concat([df2_fulldata,df1_fulldata])\n",
    "    \n",
    "\n",
    "#Removing NULLS - Data Cleaning\n",
    "df1 = df2_fulldata.dropna()\n",
    "\n",
    "#Converting from Unix timestamp to datetime\n",
    "df1['timestamp'] = pd.to_datetime(df1['timestamp'],unit='s')\n",
    "df1['timestamp'] = pd.to_datetime(df1['timestamp']).dt.date\n",
    "\n",
    "print(df1)\n"
   ]
  },
  {
   "cell_type": "code",
   "execution_count": 2,
   "metadata": {
    "colab": {
     "base_uri": "https://localhost:8080/"
    },
    "id": "eHF2Bw0fCnwI",
    "outputId": "2e239f19-bf53-4fe1-97b6-50c8f4f4476d"
   },
   "outputs": [
    {
     "name": "stdout",
     "output_type": "stream",
     "text": [
      "    tokenId  priceETH   timestamp\n",
      "0      2369     98.69  2022-03-13\n",
      "1      5747     95.59  2022-02-21\n",
      "2      2392       145  2022-04-24\n",
      "3      3017        92  2022-03-16\n",
      "4      8100        75  2022-03-07\n",
      "..      ...       ...         ...\n",
      "831    3945       105  2022-03-20\n",
      "832    4227     83.69  2022-03-02\n",
      "833     527    85.063  2022-06-03\n",
      "834    1485     151.9  2022-04-29\n",
      "835    6509  124.2069  2022-04-20\n",
      "\n",
      "[1836 rows x 3 columns]\n"
     ]
    }
   ],
   "source": [
    "\n",
    "#Code to fetch the data from The Graph's endpoint for analysis. The transactions are filtered with Token ID = 0xc02aaa39b223fe8d0a0e5c4f27ead9083c756cc2\n",
    "#This is the token ID for Wrapped ETH (WETH) : https://etherscan.io/token/0xc02aaa39b223fe8d0a0e5c4f27ead9083c756cc2\n",
    "import requests\n",
    "import json\n",
    "import pandas as pd\n",
    "from datetime import datetime\n",
    "\n",
    "# Point to correct subgraph URL\n",
    "#Uniswap V3 GraphQL endpoint link - https://thegraph.com/hosted-service/subgraph/uniswap/uniswap-v3\n",
    "url = 'https://api.thegraph.com/subgraphs/name/messari/opensea-v2-ethereum'\n",
    "\n",
    "# initialize full_data\n",
    "df1_fulldata = pd.DataFrame()\n",
    "df2_fulldata = pd.DataFrame()\n",
    "df_data = pd.DataFrame()\n",
    "\n",
    "#Fetching top records ordered by date\n",
    "for i in range(0,2) :\n",
    "    # Set query (which uses text input to specify ETH wallet addresses)\n",
    "    query = '''query {\n",
    "        trades( first: 1000, skip: %s, where: {collection: \"0xbc4ca0eda7647a8ab7c2061c2e118a18a936f13d\"}) {\n",
    "            \n",
    "            tokenId\n",
    "            priceETH\n",
    "            timestamp\n",
    "            \n",
    "\n",
    "            }\n",
    "            }''' % (i*1000)\n",
    "\n",
    "\n",
    "    # Make the request\n",
    "    r = requests.post(url, json={'query': query})\n",
    "    \n",
    "    # JSON adjustment\n",
    "    json_data = json.loads(r.text)\n",
    "    \n",
    "    # extract JSON to convert to a dataframe\n",
    "    df_data = json_data['data']['trades']\n",
    "    df1_fulldata = pd.DataFrame(df_data)\n",
    "        \n",
    "    df2_fulldata = pd.concat([df2_fulldata,df1_fulldata])\n",
    "    \n",
    "\n",
    "#Removing NULLS - Data Cleaning\n",
    "df2 = df2_fulldata.dropna()\n",
    "\n",
    "#Converting from Unix timestamp to datetime\n",
    "df2['timestamp'] = pd.to_datetime(df2['timestamp'],unit='s')\n",
    "df2['timestamp'] = pd.to_datetime(df2['timestamp']).dt.date\n",
    "\n",
    "print(df2)\n"
   ]
  },
  {
   "cell_type": "code",
   "execution_count": 3,
   "metadata": {
    "colab": {
     "base_uri": "https://localhost:8080/"
    },
    "id": "kSgJeGqnvCkK",
    "outputId": "bd861a94-f251-4a27-cb9b-69816703df7d"
   },
   "outputs": [
    {
     "name": "stdout",
     "output_type": "stream",
     "text": [
      "    tokenId               priceETH   timestamp\n",
      "0      8590                    190  2022-08-27\n",
      "1      9235                   65.7  2022-12-17\n",
      "2      6545                  69.69  2022-11-16\n",
      "3      5474                   90.8  2022-06-24\n",
      "4      6669                     87  2022-06-16\n",
      "..      ...                    ...         ...\n",
      "392    2032                     81  2022-07-26\n",
      "393    7697  84.418441358024691359  2023-02-20\n",
      "394    3293                    100  2023-02-11\n",
      "395    6937               71.00001  2022-09-08\n",
      "396    3847                71.8495  2023-01-26\n",
      "\n",
      "[1397 rows x 3 columns]\n"
     ]
    }
   ],
   "source": [
    "\n",
    "#Code to fetch the data from The Graph's endpoint for analysis. The transactions are filtered with Token ID = 0xc02aaa39b223fe8d0a0e5c4f27ead9083c756cc2\n",
    "#This is the token ID for Wrapped ETH (WETH) : https://etherscan.io/token/0xc02aaa39b223fe8d0a0e5c4f27ead9083c756cc2\n",
    "import requests\n",
    "import json\n",
    "import pandas as pd\n",
    "from datetime import datetime\n",
    "\n",
    "# Point to correct subgraph URL\n",
    "#Uniswap V3 GraphQL endpoint link - https://thegraph.com/hosted-service/subgraph/uniswap/uniswap-v3\n",
    "url = 'https://api.thegraph.com/subgraphs/name/messari/opensea-seaport-ethereum'\n",
    "\n",
    "# initialize full_data\n",
    "df1_fulldata = pd.DataFrame()\n",
    "df2_fulldata = pd.DataFrame()\n",
    "df_data = pd.DataFrame()\n",
    "\n",
    "#Fetching top records ordered by date\n",
    "for i in range(0,2) :\n",
    "    # Set query (which uses text input to specify ETH wallet addresses)\n",
    "    query = '''query {\n",
    "        trades( first: 1000, skip: %s, where: {collection: \"0xbc4ca0eda7647a8ab7c2061c2e118a18a936f13d\"}) {\n",
    "            \n",
    "            tokenId\n",
    "            priceETH\n",
    "            timestamp\n",
    "            \n",
    "\n",
    "            }\n",
    "            }''' % (i*1000)\n",
    "\n",
    "\n",
    "    # Make the request\n",
    "    r = requests.post(url, json={'query': query})\n",
    "    \n",
    "    # JSON adjustment\n",
    "    json_data = json.loads(r.text)\n",
    "    \n",
    "    # extract JSON to convert to a dataframe\n",
    "    df_data = json_data['data']['trades']\n",
    "    df1_fulldata = pd.DataFrame(df_data)\n",
    "        \n",
    "    df2_fulldata = pd.concat([df2_fulldata,df1_fulldata])\n",
    "    \n",
    "\n",
    "#Removing NULLS - Data Cleaning\n",
    "df3 = df2_fulldata.dropna()\n",
    "\n",
    "#Converting from Unix timestamp to datetime\n",
    "df3['timestamp'] = pd.to_datetime(df3['timestamp'],unit='s')\n",
    "df3['timestamp'] = pd.to_datetime(df3['timestamp']).dt.date\n",
    "\n",
    "print(df3)\n"
   ]
  },
  {
   "cell_type": "code",
   "execution_count": 4,
   "metadata": {
    "colab": {
     "base_uri": "https://localhost:8080/"
    },
    "id": "kvpqfixRFGL6",
    "outputId": "73e329f4-fc2f-4bfa-ad05-9b018232f890"
   },
   "outputs": [
    {
     "name": "stdout",
     "output_type": "stream",
     "text": [
      "     tokenId               priceETH   timestamp\n",
      "0       5185                      4  2021-06-17\n",
      "1       6090                      1  2021-05-31\n",
      "2       6733                   2.68  2021-06-19\n",
      "3       7544                  15.85  2021-08-20\n",
      "4       9168                   0.35  2021-05-02\n",
      "...      ...                    ...         ...\n",
      "5228    2032                     81  2022-07-26\n",
      "5229    7697  84.418441358024691359  2023-02-20\n",
      "5230    3293                    100  2023-02-11\n",
      "5231    6937               71.00001  2022-09-08\n",
      "5232    3847                71.8495  2023-01-26\n",
      "\n",
      "[5233 rows x 3 columns]\n"
     ]
    }
   ],
   "source": [
    "#Merging the above 3 dataframes into one\n",
    "frames = [df1, df2, df3]\n",
    "\n",
    "data = pd.concat(frames)\n",
    "data.reset_index(inplace=True)\n",
    "data = data.drop(['index'], axis=1)\n",
    "\n",
    "print(data)"
   ]
  },
  {
   "cell_type": "code",
   "execution_count": 5,
   "metadata": {
    "id": "S4pnhwhHF1am"
   },
   "outputs": [],
   "source": [
    "data.to_csv('Data_BoredApe.csv',index='False')\n"
   ]
  }
 ],
 "metadata": {
  "colab": {
   "provenance": []
  },
  "kernelspec": {
   "display_name": "Python 3 (ipykernel)",
   "language": "python",
   "name": "python3"
  },
  "language_info": {
   "codemirror_mode": {
    "name": "ipython",
    "version": 3
   },
   "file_extension": ".py",
   "mimetype": "text/x-python",
   "name": "python",
   "nbconvert_exporter": "python",
   "pygments_lexer": "ipython3",
   "version": "3.9.16"
  }
 },
 "nbformat": 4,
 "nbformat_minor": 1
}
